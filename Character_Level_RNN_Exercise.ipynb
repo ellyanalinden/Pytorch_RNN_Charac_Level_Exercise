{
  "nbformat": 4,
  "nbformat_minor": 0,
  "metadata": {
    "colab": {
      "name": "Character_Level_RNN_Exercise.ipynb",
      "version": "0.3.2",
      "provenance": [],
      "include_colab_link": true
    },
    "kernelspec": {
      "name": "python3",
      "display_name": "Python 3"
    },
    "accelerator": "GPU"
  },
  "cells": [
    {
      "cell_type": "markdown",
      "metadata": {
        "id": "view-in-github",
        "colab_type": "text"
      },
      "source": [
        "<a href=\"https://colab.research.google.com/github/ellyanalinden/Pytorch_RNN_Charac_Level_Exercise/blob/master/Character_Level_RNN_Exercise.ipynb\" target=\"_parent\"><img src=\"https://colab.research.google.com/assets/colab-badge.svg\" alt=\"Open In Colab\"/></a>"
      ]
    },
    {
      "metadata": {
        "id": "5Y_7xrsvepa-",
        "colab_type": "text"
      },
      "cell_type": "markdown",
      "source": [
        "# Character-Level LSTM in PyTorch\n",
        "\n",
        "In this notebook, I'll construct a character-level LSTM with PyTorch. The network will train character by character on some text, then generate new text character by character. As an example, I will train on Anna Karenina. **This model will be able to generate new text based on the text from the book!**\n",
        "\n",
        "This network is based off of Andrej Karpathy's [post on RNNs](http://karpathy.github.io/2015/05/21/rnn-effectiveness/) and [implementation in Torch](https://github.com/karpathy/char-rnn). Below is the general architecture of the character-wise RNN.\n",
        "\n",
        "<img src=\"assets/charseq.jpeg\" width=\"500\">"
      ]
    },
    {
      "metadata": {
        "id": "IRnnycDcepbB",
        "colab_type": "text"
      },
      "cell_type": "markdown",
      "source": [
        "First let's load in our required resources for data loading and model creation."
      ]
    },
    {
      "metadata": {
        "id": "4LP7trINepbE",
        "colab_type": "code",
        "colab": {}
      },
      "cell_type": "code",
      "source": [
        "import numpy as np\n",
        "import torch\n",
        "from torch import nn\n",
        "import torch.nn.functional as F"
      ],
      "execution_count": 0,
      "outputs": []
    },
    {
      "metadata": {
        "id": "_mz284W0aeXU",
        "colab_type": "code",
        "colab": {
          "base_uri": "https://localhost:8080/",
          "height": 54
        },
        "outputId": "2a9c06c5-cc67-4aa1-887c-d132cc76907c"
      },
      "cell_type": "code",
      "source": [
        "# http://pytorch.org/\n",
        "from os.path import exists\n",
        "from wheel.pep425tags import get_abbr_impl, get_impl_ver, get_abi_tag\n",
        "platform = '{}{}-{}'.format(get_abbr_impl(), get_impl_ver(), get_abi_tag())\n",
        "cuda_output = !ldconfig -p|grep cudart.so|sed -e 's/.*\\.\\([0-9]*\\)\\.\\([0-9]*\\)$/cu\\1\\2/'\n",
        "accelerator = cuda_output[0] if exists('/dev/nvidia0') else 'cpu'\n",
        "\n",
        "!pip install -q http://download.pytorch.org/whl/{accelerator}/torch-0.4.1-{platform}-linux_x86_64.whl torchvision\n",
        "import torch"
      ],
      "execution_count": 2,
      "outputs": [
        {
          "output_type": "stream",
          "text": [
            "tcmalloc: large alloc 1073750016 bytes == 0x58256000 @  0x7fbb1e5372a4 0x591a07 0x5b5d56 0x502e9a 0x506859 0x502209 0x502f3d 0x506859 0x504c28 0x502540 0x502f3d 0x506859 0x504c28 0x502540 0x502f3d 0x506859 0x504c28 0x502540 0x502f3d 0x507641 0x502209 0x502f3d 0x506859 0x504c28 0x502540 0x502f3d 0x507641 0x504c28 0x502540 0x502f3d 0x507641\n"
          ],
          "name": "stdout"
        }
      ]
    },
    {
      "metadata": {
        "id": "MKcxDjiPepbL",
        "colab_type": "text"
      },
      "cell_type": "markdown",
      "source": [
        "## Load in Data\n",
        "\n",
        "Then, we'll load the Anna Karenina text file and convert it into integers for our network to use. "
      ]
    },
    {
      "metadata": {
        "id": "cc78UnZEepbM",
        "colab_type": "code",
        "colab": {}
      },
      "cell_type": "code",
      "source": [
        "# open text file and read in data as `text`\n",
        "with open('anna.txt', 'r') as f:\n",
        "    text = f.read()"
      ],
      "execution_count": 0,
      "outputs": []
    },
    {
      "metadata": {
        "id": "1bV_zYXpepbQ",
        "colab_type": "text"
      },
      "cell_type": "markdown",
      "source": [
        "Let's check out the first 100 characters, make sure everything is peachy. According to the [American Book Review](http://americanbookreview.org/100bestlines.asp), this is the 6th best first line of a book ever."
      ]
    },
    {
      "metadata": {
        "id": "QcQvDGHbepbS",
        "colab_type": "code",
        "colab": {
          "base_uri": "https://localhost:8080/",
          "height": 34
        },
        "outputId": "99250553-b8a0-4af2-eb61-637ca185d1b6"
      },
      "cell_type": "code",
      "source": [
        "text[:100]"
      ],
      "execution_count": 8,
      "outputs": [
        {
          "output_type": "execute_result",
          "data": {
            "text/plain": [
              "'Chapter 1\\n\\n\\nHappy families are all alike; every unhappy family is unhappy in its own\\nway.\\n\\nEverythin'"
            ]
          },
          "metadata": {
            "tags": []
          },
          "execution_count": 8
        }
      ]
    },
    {
      "metadata": {
        "id": "VT04DdCLepbX",
        "colab_type": "text"
      },
      "cell_type": "markdown",
      "source": [
        "### Tokenization\n",
        "\n",
        "In the cells, below, I'm creating a couple **dictionaries** to convert the characters to and from integers. Encoding the characters as integers makes it easier to use as input in the network."
      ]
    },
    {
      "metadata": {
        "id": "YAe5gtgJepba",
        "colab_type": "code",
        "colab": {}
      },
      "cell_type": "code",
      "source": [
        "# encode the text and map each character to an integer and vice versa\n",
        "\n",
        "# we create two dictionaries:\n",
        "# 1. int2char, which maps integers to characters\n",
        "# 2. char2int, which maps characters to unique integers\n",
        "chars = tuple(set(text))\n",
        "int2char = dict(enumerate(chars))\n",
        "char2int = {ch: ii for ii, ch in int2char.items()}\n",
        "\n",
        "# encode the text\n",
        "encoded = np.array([char2int[ch] for ch in text])"
      ],
      "execution_count": 0,
      "outputs": []
    },
    {
      "metadata": {
        "id": "BHiWV4ufepbi",
        "colab_type": "text"
      },
      "cell_type": "markdown",
      "source": [
        "And we can see those same characters from above, encoded as integers."
      ]
    },
    {
      "metadata": {
        "id": "eZcYyLsdepbj",
        "colab_type": "code",
        "colab": {
          "base_uri": "https://localhost:8080/",
          "height": 119
        },
        "outputId": "127d8af9-aab3-48f9-dbaf-fca4afae8ae7"
      },
      "cell_type": "code",
      "source": [
        "encoded[:100]"
      ],
      "execution_count": 10,
      "outputs": [
        {
          "output_type": "execute_result",
          "data": {
            "text/plain": [
              "array([34, 11, 29, 69, 22, 80, 48, 16,  9, 81, 81, 81, 44, 29, 69, 69, 45,\n",
              "       16, 47, 29, 55, 60, 63, 60, 80, 49, 16, 29, 48, 80, 16, 29, 63, 63,\n",
              "       16, 29, 63, 60, 10, 80, 24, 16, 80, 62, 80, 48, 45, 16, 35, 74, 11,\n",
              "       29, 69, 69, 45, 16, 47, 29, 55, 60, 63, 45, 16, 60, 49, 16, 35, 74,\n",
              "       11, 29, 69, 69, 45, 16, 60, 74, 16, 60, 22, 49, 16, 76, 23, 74, 81,\n",
              "       23, 29, 45, 20, 81, 81, 64, 62, 80, 48, 45, 22, 11, 60, 74])"
            ]
          },
          "metadata": {
            "tags": []
          },
          "execution_count": 10
        }
      ]
    },
    {
      "metadata": {
        "id": "8fCs_2a0epbo",
        "colab_type": "text"
      },
      "cell_type": "markdown",
      "source": [
        "## Pre-processing the data\n",
        "\n",
        "As you can see in our char-RNN image above, our LSTM expects an input that is **one-hot encoded** meaning that each character is converted into an integer (via our created dictionary) and *then* converted into a column vector where only it's corresponding integer index will have the value of 1 and the rest of the vector will be filled with 0's. Since we're one-hot encoding the data, let's make a function to do that!\n"
      ]
    },
    {
      "metadata": {
        "id": "gPks19Keepbp",
        "colab_type": "code",
        "colab": {}
      },
      "cell_type": "code",
      "source": [
        "def one_hot_encode(arr, n_labels):\n",
        "    \n",
        "    # Initialize the the encoded array\n",
        "    one_hot = np.zeros((np.multiply(*arr.shape), n_labels), dtype=np.float32)\n",
        "    \n",
        "    # Fill the appropriate elements with ones\n",
        "    one_hot[np.arange(one_hot.shape[0]), arr.flatten()] = 1.\n",
        "    \n",
        "    # Finally reshape it to get back to the original array\n",
        "    one_hot = one_hot.reshape((*arr.shape, n_labels))\n",
        "    \n",
        "    return one_hot"
      ],
      "execution_count": 0,
      "outputs": []
    },
    {
      "metadata": {
        "id": "YGhD1rn8epby",
        "colab_type": "code",
        "colab": {
          "base_uri": "https://localhost:8080/",
          "height": 68
        },
        "outputId": "fb3ebe07-fb4e-4d87-9b2b-0bd067b812c1"
      },
      "cell_type": "code",
      "source": [
        "# check that the function works as expected\n",
        "test_seq = np.array([[3, 5, 1]])\n",
        "one_hot = one_hot_encode(test_seq, 8)\n",
        "\n",
        "print(one_hot)"
      ],
      "execution_count": 12,
      "outputs": [
        {
          "output_type": "stream",
          "text": [
            "[[[0. 0. 0. 1. 0. 0. 0. 0.]\n",
            "  [0. 0. 0. 0. 0. 1. 0. 0.]\n",
            "  [0. 1. 0. 0. 0. 0. 0. 0.]]]\n"
          ],
          "name": "stdout"
        }
      ]
    },
    {
      "metadata": {
        "id": "Kis8AeFgepb4",
        "colab_type": "text"
      },
      "cell_type": "markdown",
      "source": [
        "## Making training mini-batches\n",
        "\n",
        "\n",
        "To train on this data, we also want to create mini-batches for training. Remember that we want our batches to be multiple sequences of some desired number of sequence steps. Considering a simple example, our batches would look like this:\n",
        "\n",
        "<img src=\"assets/sequence_batching@1x.png\" width=500px>\n",
        "\n",
        "\n",
        "<br>\n",
        "\n",
        "In this example, we'll take the encoded characters (passed in as the `arr` parameter) and split them into multiple sequences, given by `batch_size`. Each of our sequences will be `seq_length` long.\n",
        "\n",
        "### Creating Batches\n",
        "\n",
        "**1. The first thing we need to do is discard some of the text so we only have completely full mini-batches. **\n",
        "\n",
        "Each batch contains $N \\times M$ characters, where $N$ is the batch size (the number of sequences in a batch) and $M$ is the seq_length or number of time steps in a sequence. Then, to get the total number of batches, $K$, that we can make from the array `arr`, you divide the length of `arr` by the number of characters per batch. Once you know the number of batches, you can get the total number of characters to keep from `arr`, $N * M * K$.\n",
        "\n",
        "**2. After that, we need to split `arr` into $N$ batches. ** \n",
        "\n",
        "You can do this using `arr.reshape(size)` where `size` is a tuple containing the dimensions sizes of the reshaped array. We know we want $N$ sequences in a batch, so let's make that the size of the first dimension. For the second dimension, you can use `-1` as a placeholder in the size, it'll fill up the array with the appropriate data for you. After this, you should have an array that is $N \\times (M * K)$.\n",
        "\n",
        "**3. Now that we have this array, we can iterate through it to get our mini-batches. **\n",
        "\n",
        "The idea is each batch is a $N \\times M$ window on the $N \\times (M * K)$ array. For each subsequent batch, the window moves over by `seq_length`. We also want to create both the input and target arrays. Remember that the targets are just the inputs shifted over by one character. The way I like to do this window is use `range` to take steps of size `n_steps` from $0$ to `arr.shape[1]`, the total number of tokens in each sequence. That way, the integers you get from `range` always point to the start of a batch, and each window is `seq_length` wide.\n",
        "\n",
        "> **TODO:** Write the code for creating batches in the function below. The exercises in this notebook _will not be easy_. I've provided a notebook with solutions alongside this notebook. If you get stuck, checkout the solutions. The most important thing is that you don't copy and paste the code into here, **type out the solution code yourself.**"
      ]
    },
    {
      "metadata": {
        "id": "3orO5oBjepb6",
        "colab_type": "code",
        "colab": {}
      },
      "cell_type": "code",
      "source": [
        "def get_batches(arr, batch_size, seq_length):\n",
        "    '''Create a generator that returns batches of size\n",
        "       batch_size x seq_length from arr.\n",
        "       \n",
        "       Arguments\n",
        "       ---------\n",
        "       arr: Array you want to make batches from\n",
        "       batch_size: Batch size, the number of sequences per batch\n",
        "       seq_length: Number of encoded chars in a sequence\n",
        "    '''\n",
        "    \n",
        "    batch_size_total = batch_size * seq_length\n",
        "    ## TODO: Get the number of batches we can make\n",
        "    n_batches = len(arr)//batch_size_total\n",
        "    \n",
        "    ## TODO: Keep only enough characters to make full batches\n",
        "    arr = arr[:n_batches*batch_size_total]\n",
        "    \n",
        "    ## TODO: Reshape into batch_size rows\n",
        "    arr = arr.reshape((batch_size, -1))\n",
        "    \n",
        "    ## TODO: Iterate over the batches using a window of size seq_length\n",
        "    for n in range(0, arr.shape[1], seq_length):\n",
        "        # The features\n",
        "        x = arr[:, n:n+seq_length]\n",
        "        # The targets, shifted by one\n",
        "        y = np.zeros_like(x)\n",
        "        try:\n",
        "          y[:, :-1], y[:, -1] = x[:, 1:], arr[:, n+seq_length]\n",
        "        except IndexError:\n",
        "          y[:, :-1], y[:, -1] = x[:, 1:], arr[:, 0]\n",
        "        yield x, y"
      ],
      "execution_count": 0,
      "outputs": []
    },
    {
      "metadata": {
        "id": "o23l2JF1epb-",
        "colab_type": "text"
      },
      "cell_type": "markdown",
      "source": [
        "### Test Your Implementation\n",
        "\n",
        "Now I'll make some data sets and we can check out what's going on as we batch data. Here, as an example, I'm going to use a batch size of 8 and 50 sequence steps."
      ]
    },
    {
      "metadata": {
        "id": "iMOZfUn6epb_",
        "colab_type": "code",
        "colab": {}
      },
      "cell_type": "code",
      "source": [
        "batches = get_batches(encoded, 8, 50)\n",
        "x, y = next(batches)"
      ],
      "execution_count": 0,
      "outputs": []
    },
    {
      "metadata": {
        "id": "Ezwg4MNEepcD",
        "colab_type": "code",
        "colab": {
          "base_uri": "https://localhost:8080/",
          "height": 340
        },
        "outputId": "bdf5fdb2-4160-4add-8ad9-66b9ff6eaeb6"
      },
      "cell_type": "code",
      "source": [
        "# printing out the first 10 items in a sequence\n",
        "print('x\\n', x[:10, :10])\n",
        "print('\\ny\\n', y[:10, :10])"
      ],
      "execution_count": 21,
      "outputs": [
        {
          "output_type": "stream",
          "text": [
            "x\n",
            " [[34 11 29 69 22 80 48 16  9 81]\n",
            " [49 76 74 16 22 11 29 22 16 29]\n",
            " [80 74 54 16 76 48 16 29 16 47]\n",
            " [49 16 22 11 80 16 46 11 60 80]\n",
            " [16 49 29 23 16 11 80 48 16 22]\n",
            " [46 35 49 49 60 76 74 16 29 74]\n",
            " [16 18 74 74 29 16 11 29 54 16]\n",
            " [30 78 63 76 74 49 10 45 20 16]]\n",
            "\n",
            "y\n",
            " [[11 29 69 22 80 48 16  9 81 81]\n",
            " [76 74 16 22 11 29 22 16 29 22]\n",
            " [74 54 16 76 48 16 29 16 47 76]\n",
            " [16 22 11 80 16 46 11 60 80 47]\n",
            " [49 29 23 16 11 80 48 16 22 80]\n",
            " [35 49 49 60 76 74 16 29 74 54]\n",
            " [18 74 74 29 16 11 29 54 16 49]\n",
            " [78 63 76 74 49 10 45 20 16 21]]\n"
          ],
          "name": "stdout"
        }
      ]
    },
    {
      "metadata": {
        "id": "Qq_JwhJbepcL",
        "colab_type": "text"
      },
      "cell_type": "markdown",
      "source": [
        "If you implemented `get_batches` correctly, the above output should look something like \n",
        "```\n",
        "x\n",
        " [[25  8 60 11 45 27 28 73  1  2]\n",
        " [17  7 20 73 45  8 60 45 73 60]\n",
        " [27 20 80 73  7 28 73 60 73 65]\n",
        " [17 73 45  8 27 73 66  8 46 27]\n",
        " [73 17 60 12 73  8 27 28 73 45]\n",
        " [66 64 17 17 46  7 20 73 60 20]\n",
        " [73 76 20 20 60 73  8 60 80 73]\n",
        " [47 35 43  7 20 17 24 50 37 73]]\n",
        "\n",
        "y\n",
        " [[ 8 60 11 45 27 28 73  1  2  2]\n",
        " [ 7 20 73 45  8 60 45 73 60 45]\n",
        " [20 80 73  7 28 73 60 73 65  7]\n",
        " [73 45  8 27 73 66  8 46 27 65]\n",
        " [17 60 12 73  8 27 28 73 45 27]\n",
        " [64 17 17 46  7 20 73 60 20 80]\n",
        " [76 20 20 60 73  8 60 80 73 17]\n",
        " [35 43  7 20 17 24 50 37 73 36]]\n",
        " ```\n",
        " although the exact numbers may be different. Check to make sure the data is shifted over one step for `y`."
      ]
    },
    {
      "metadata": {
        "id": "g1WL3hBaepcO",
        "colab_type": "text"
      },
      "cell_type": "markdown",
      "source": [
        "---\n",
        "## Defining the network with PyTorch\n",
        "\n",
        "Below is where you'll define the network.\n",
        "\n",
        "<img src=\"assets/charRNN.png\" width=500px>\n",
        "\n",
        "Next, you'll use PyTorch to define the architecture of the network. We start by defining the layers and operations we want. Then, define a method for the forward pass. You've also been given a method for predicting characters."
      ]
    },
    {
      "metadata": {
        "id": "KFeI1nU2epcR",
        "colab_type": "text"
      },
      "cell_type": "markdown",
      "source": [
        "### Model Structure\n",
        "\n",
        "In `__init__` the suggested structure is as follows:\n",
        "* Create and store the necessary dictionaries (this has been done for you)\n",
        "* Define an LSTM layer that takes as params: an input size (the number of characters), a hidden layer size `n_hidden`, a number of layers `n_layers`, a dropout probability `drop_prob`, and a batch_first boolean (True, since we are batching)\n",
        "* Define a dropout layer with `dropout_prob`\n",
        "* Define a fully-connected layer with params: input size `n_hidden` and output size (the number of characters)\n",
        "* Finally, initialize the weights (again, this has been given)\n",
        "\n",
        "Note that some parameters have been named and given in the `__init__` function, and we use them and store them by doing something like `self.drop_prob = drop_prob`."
      ]
    },
    {
      "metadata": {
        "id": "Qxjg4LgrepcU",
        "colab_type": "text"
      },
      "cell_type": "markdown",
      "source": [
        "---\n",
        "### LSTM Inputs/Outputs\n",
        "\n",
        "You can create a basic [LSTM layer](https://pytorch.org/docs/stable/nn.html#lstm) as follows\n",
        "\n",
        "```python\n",
        "self.lstm = nn.LSTM(input_size, n_hidden, n_layers, \n",
        "                            dropout=drop_prob, batch_first=True)\n",
        "```\n",
        "\n",
        "where `input_size` is the number of characters this cell expects to see as sequential input, and `n_hidden` is the number of units in the hidden layers in the cell. And we can add dropout by adding a dropout parameter with a specified probability; this will automatically add dropout to the inputs or outputs. Finally, in the `forward` function, we can stack up the LSTM cells into layers using `.view`. With this, you pass in a list of cells and it will send the output of one cell into the next cell.\n",
        "\n",
        "We also need to create an initial hidden state of all zeros. This is done like so\n",
        "\n",
        "```python\n",
        "self.init_hidden()\n",
        "```"
      ]
    },
    {
      "metadata": {
        "id": "1VOOstTyepcW",
        "colab_type": "code",
        "colab": {
          "base_uri": "https://localhost:8080/",
          "height": 34
        },
        "outputId": "9cac81c9-b470-4db2-8616-55edea704559"
      },
      "cell_type": "code",
      "source": [
        "# check if GPU is available\n",
        "train_on_gpu = torch.cuda.is_available()\n",
        "if(train_on_gpu):\n",
        "    print('Training on GPU!')\n",
        "else: \n",
        "    print('No GPU available, training on CPU; consider making n_epochs very small.')"
      ],
      "execution_count": 22,
      "outputs": [
        {
          "output_type": "stream",
          "text": [
            "Training on GPU!\n"
          ],
          "name": "stdout"
        }
      ]
    },
    {
      "metadata": {
        "id": "fzxtALZWepca",
        "colab_type": "code",
        "colab": {}
      },
      "cell_type": "code",
      "source": [
        "class CharRNN(nn.Module):\n",
        "    \n",
        "    def __init__(self, tokens, n_hidden=256, n_layers=2,\n",
        "                               drop_prob=0.5, lr=0.001):\n",
        "        super().__init__()\n",
        "        self.drop_prob = drop_prob\n",
        "        self.n_layers = n_layers\n",
        "        self.n_hidden = n_hidden\n",
        "        self.lr = lr\n",
        "        \n",
        "        # creating character dictionaries\n",
        "        self.chars = tokens\n",
        "        self.int2char = dict(enumerate(self.chars))\n",
        "        self.char2int = {ch: ii for ii, ch in self.int2char.items()}\n",
        "        \n",
        "        ## TODO: define the layers of the model\n",
        "        # define the LSTM\n",
        "        self.lstm = nn.LSTM(len(self.chars), n_hidden, n_layers,\n",
        "                           dropout = drop_prob, batch_first = True)\n",
        "        \n",
        "        # define a dropout layer\n",
        "        self.dropout = nn.Dropout(drop_prob)\n",
        "        \n",
        "        # define the final, fully-connected output layer\n",
        "        self.fc = nn.Linear(n_hidden, len(self.chars))\n",
        "      \n",
        "    \n",
        "    def forward(self, x, hidden):\n",
        "        ''' Forward pass through the network. \n",
        "            These inputs are x, and the hidden/cell state `hidden`. '''\n",
        "                \n",
        "        ## TODO: Get the outputs and the new hidden state from the lstm\n",
        "        r_output, hidden = self.lstm(x, hidden)\n",
        "        \n",
        "        # pass through a dropout layer\n",
        "        out = self.dropout(r_output)\n",
        "        \n",
        "        # stack up LSTM output using view\n",
        "        # you may need contiguous to reshape the output\n",
        "        out = out.contiguous().view(-1, self.n_hidden)\n",
        "        \n",
        "        # put x through the fully-connected layer\n",
        "        out = self.fc(out)\n",
        "        \n",
        "        # return the final output and the hidden state\n",
        "        return out, hidden\n",
        "    \n",
        "    \n",
        "    def init_hidden(self, batch_size):\n",
        "        ''' Initializes hidden state '''\n",
        "        # Create two new tensors with sizes n_layers x batch_size x n_hidden,\n",
        "        # initialized to zero, for hidden state and cell state of LSTM\n",
        "        weight = next(self.parameters()).data\n",
        "        \n",
        "        if (train_on_gpu):\n",
        "            hidden = (weight.new(self.n_layers, batch_size, self.n_hidden).zero_().cuda(),\n",
        "                  weight.new(self.n_layers, batch_size, self.n_hidden).zero_().cuda())\n",
        "        else:\n",
        "            hidden = (weight.new(self.n_layers, batch_size, self.n_hidden).zero_(),\n",
        "                      weight.new(self.n_layers, batch_size, self.n_hidden).zero_())\n",
        "        \n",
        "        return hidden"
      ],
      "execution_count": 0,
      "outputs": []
    },
    {
      "metadata": {
        "id": "IvTL0r8hepcj",
        "colab_type": "text"
      },
      "cell_type": "markdown",
      "source": [
        "## Time to train\n",
        "\n",
        "The train function gives us the ability to set the number of epochs, the learning rate, and other parameters.\n",
        "\n",
        "Below we're using an Adam optimizer and cross entropy loss since we are looking at character class scores as output. We calculate the loss and perform backpropagation, as usual!\n",
        "\n",
        "A couple of details about training: \n",
        ">* Within the batch loop, we detach the hidden state from its history; this time setting it equal to a new *tuple* variable because an LSTM has a hidden state that is a tuple of the hidden and cell states.\n",
        "* We use [`clip_grad_norm_`](https://pytorch.org/docs/stable/_modules/torch/nn/utils/clip_grad.html) to help prevent exploding gradients."
      ]
    },
    {
      "metadata": {
        "id": "tFUmhWurepcl",
        "colab_type": "code",
        "colab": {}
      },
      "cell_type": "code",
      "source": [
        "def train(net, data, epochs=10, batch_size=10, seq_length=50, lr=0.001, clip=5, val_frac=0.1, print_every=10):\n",
        "    ''' Training a network \n",
        "    \n",
        "        Arguments\n",
        "        ---------\n",
        "        \n",
        "        net: CharRNN network\n",
        "        data: text data to train the network\n",
        "        epochs: Number of epochs to train\n",
        "        batch_size: Number of mini-sequences per mini-batch, aka batch size\n",
        "        seq_length: Number of character steps per mini-batch\n",
        "        lr: learning rate\n",
        "        clip: gradient clipping\n",
        "        val_frac: Fraction of data to hold out for validation\n",
        "        print_every: Number of steps for printing training and validation loss\n",
        "    \n",
        "    '''\n",
        "    net.train()\n",
        "    \n",
        "    opt = torch.optim.Adam(net.parameters(), lr=lr)\n",
        "    criterion = nn.CrossEntropyLoss()\n",
        "    \n",
        "    # create training and validation data\n",
        "    val_idx = int(len(data)*(1-val_frac))\n",
        "    data, val_data = data[:val_idx], data[val_idx:]\n",
        "    \n",
        "    if(train_on_gpu):\n",
        "        net.cuda()\n",
        "    \n",
        "    counter = 0\n",
        "    n_chars = len(net.chars)\n",
        "    for e in range(epochs):\n",
        "        # initialize hidden state\n",
        "        h = net.init_hidden(batch_size)\n",
        "        \n",
        "        for x, y in get_batches(data, batch_size, seq_length):\n",
        "            counter += 1\n",
        "            \n",
        "            # One-hot encode our data and make them Torch tensors\n",
        "            x = one_hot_encode(x, n_chars)\n",
        "            inputs, targets = torch.from_numpy(x), torch.from_numpy(y)\n",
        "            \n",
        "            if(train_on_gpu):\n",
        "                inputs, targets = inputs.cuda(), targets.cuda()\n",
        "\n",
        "            # Creating new variables for the hidden state, otherwise\n",
        "            # we'd backprop through the entire training history\n",
        "            h = tuple([each.data for each in h])\n",
        "\n",
        "            # zero accumulated gradients\n",
        "            net.zero_grad()\n",
        "            \n",
        "            # get the output from the model\n",
        "            output, h = net(inputs, h)\n",
        "            \n",
        "            # calculate the loss and perform backprop\n",
        "            loss = criterion(output, targets.view(batch_size*seq_length))\n",
        "            loss.backward()\n",
        "            # `clip_grad_norm` helps prevent the exploding gradient problem in RNNs / LSTMs.\n",
        "            nn.utils.clip_grad_norm_(net.parameters(), clip)\n",
        "            opt.step()\n",
        "            \n",
        "            # loss stats\n",
        "            if counter % print_every == 0:\n",
        "                # Get validation loss\n",
        "                val_h = net.init_hidden(batch_size)\n",
        "                val_losses = []\n",
        "                net.eval()\n",
        "                for x, y in get_batches(val_data, batch_size, seq_length):\n",
        "                    # One-hot encode our data and make them Torch tensors\n",
        "                    x = one_hot_encode(x, n_chars)\n",
        "                    x, y = torch.from_numpy(x), torch.from_numpy(y)\n",
        "                    \n",
        "                    # Creating new variables for the hidden state, otherwise\n",
        "                    # we'd backprop through the entire training history\n",
        "                    val_h = tuple([each.data for each in val_h])\n",
        "                    \n",
        "                    inputs, targets = x, y\n",
        "                    if(train_on_gpu):\n",
        "                        inputs, targets = inputs.cuda(), targets.cuda()\n",
        "\n",
        "                    output, val_h = net(inputs, val_h)\n",
        "                    val_loss = criterion(output, targets.view(batch_size*seq_length))\n",
        "                \n",
        "                    val_losses.append(val_loss.item())\n",
        "                \n",
        "                net.train() # reset to train mode after iterationg through validation data\n",
        "                \n",
        "                print(\"Epoch: {}/{}...\".format(e+1, epochs),\n",
        "                      \"Step: {}...\".format(counter),\n",
        "                      \"Loss: {:.4f}...\".format(loss.item()),\n",
        "                      \"Val Loss: {:.4f}\".format(np.mean(val_losses)))"
      ],
      "execution_count": 0,
      "outputs": []
    },
    {
      "metadata": {
        "id": "1cavS9kyepco",
        "colab_type": "text"
      },
      "cell_type": "markdown",
      "source": [
        "## Instantiating the model\n",
        "\n",
        "Now we can actually train the network. First we'll create the network itself, with some given hyperparameters. Then, define the mini-batches sizes, and start training!"
      ]
    },
    {
      "metadata": {
        "id": "O3aa66miepcr",
        "colab_type": "code",
        "colab": {
          "base_uri": "https://localhost:8080/",
          "height": 102
        },
        "outputId": "00fa8ded-02b5-4c57-d7e5-ba5391b02b64"
      },
      "cell_type": "code",
      "source": [
        "## TODO: set you model hyperparameters\n",
        "# define and print the net\n",
        "n_hidden= 512\n",
        "n_layers= 2\n",
        "\n",
        "net = CharRNN(chars, n_hidden, n_layers)\n",
        "print(net)"
      ],
      "execution_count": 37,
      "outputs": [
        {
          "output_type": "stream",
          "text": [
            "CharRNN(\n",
            "  (lstm): LSTM(83, 512, num_layers=2, batch_first=True, dropout=0.5)\n",
            "  (dropout): Dropout(p=0.5)\n",
            "  (fc): Linear(in_features=512, out_features=83, bias=True)\n",
            ")\n"
          ],
          "name": "stdout"
        }
      ]
    },
    {
      "metadata": {
        "id": "hCwecDdkepcx",
        "colab_type": "text"
      },
      "cell_type": "markdown",
      "source": [
        "### Set your training hyperparameters!"
      ]
    },
    {
      "metadata": {
        "scrolled": true,
        "id": "xNFBaShRepcz",
        "colab_type": "code",
        "colab": {
          "base_uri": "https://localhost:8080/",
          "height": 4743
        },
        "outputId": "4b2cde8e-e132-4cbe-d6a2-51704a562dd2"
      },
      "cell_type": "code",
      "source": [
        "batch_size = 128\n",
        "seq_length = 100\n",
        "n_epochs = 20 # start small if you are just testing initial behavior \n",
        "\n",
        "# train the model\n",
        "train(net, encoded, epochs=n_epochs, batch_size=batch_size, seq_length=seq_length, lr=0.001, print_every=10)"
      ],
      "execution_count": 38,
      "outputs": [
        {
          "output_type": "stream",
          "text": [
            "Epoch: 1/20... Step: 10... Loss: 3.2467... Val Loss: 3.1951\n",
            "Epoch: 1/20... Step: 20... Loss: 3.1342... Val Loss: 3.1303\n",
            "Epoch: 1/20... Step: 30... Loss: 3.1353... Val Loss: 3.1212\n",
            "Epoch: 1/20... Step: 40... Loss: 3.1099... Val Loss: 3.1181\n",
            "Epoch: 1/20... Step: 50... Loss: 3.1427... Val Loss: 3.1164\n",
            "Epoch: 1/20... Step: 60... Loss: 3.1137... Val Loss: 3.1128\n",
            "Epoch: 1/20... Step: 70... Loss: 3.1013... Val Loss: 3.1082\n",
            "Epoch: 1/20... Step: 80... Loss: 3.1062... Val Loss: 3.0946\n",
            "Epoch: 1/20... Step: 90... Loss: 3.0794... Val Loss: 3.0607\n",
            "Epoch: 1/20... Step: 100... Loss: 3.0105... Val Loss: 2.9876\n",
            "Epoch: 1/20... Step: 110... Loss: 2.9150... Val Loss: 2.8861\n",
            "Epoch: 1/20... Step: 120... Loss: 2.8573... Val Loss: 2.8264\n",
            "Epoch: 1/20... Step: 130... Loss: 2.7596... Val Loss: 2.7236\n",
            "Epoch: 2/20... Step: 140... Loss: 2.6534... Val Loss: 2.6039\n",
            "Epoch: 2/20... Step: 150... Loss: 2.5797... Val Loss: 2.5302\n",
            "Epoch: 2/20... Step: 160... Loss: 2.5184... Val Loss: 2.4820\n",
            "Epoch: 2/20... Step: 170... Loss: 2.4571... Val Loss: 2.4484\n",
            "Epoch: 2/20... Step: 180... Loss: 2.4310... Val Loss: 2.4098\n",
            "Epoch: 2/20... Step: 190... Loss: 2.3809... Val Loss: 2.3751\n",
            "Epoch: 2/20... Step: 200... Loss: 2.3800... Val Loss: 2.3463\n",
            "Epoch: 2/20... Step: 210... Loss: 2.3378... Val Loss: 2.3201\n",
            "Epoch: 2/20... Step: 220... Loss: 2.3076... Val Loss: 2.2894\n",
            "Epoch: 2/20... Step: 230... Loss: 2.2897... Val Loss: 2.2663\n",
            "Epoch: 2/20... Step: 240... Loss: 2.2716... Val Loss: 2.2363\n",
            "Epoch: 2/20... Step: 250... Loss: 2.2103... Val Loss: 2.2087\n",
            "Epoch: 2/20... Step: 260... Loss: 2.1839... Val Loss: 2.1850\n",
            "Epoch: 2/20... Step: 270... Loss: 2.1928... Val Loss: 2.1669\n",
            "Epoch: 3/20... Step: 280... Loss: 2.1924... Val Loss: 2.1468\n",
            "Epoch: 3/20... Step: 290... Loss: 2.1574... Val Loss: 2.1180\n",
            "Epoch: 3/20... Step: 300... Loss: 2.1254... Val Loss: 2.1004\n",
            "Epoch: 3/20... Step: 310... Loss: 2.1047... Val Loss: 2.0800\n",
            "Epoch: 3/20... Step: 320... Loss: 2.0793... Val Loss: 2.0592\n",
            "Epoch: 3/20... Step: 330... Loss: 2.0462... Val Loss: 2.0428\n",
            "Epoch: 3/20... Step: 340... Loss: 2.0687... Val Loss: 2.0259\n",
            "Epoch: 3/20... Step: 350... Loss: 2.0518... Val Loss: 2.0066\n",
            "Epoch: 3/20... Step: 360... Loss: 1.9762... Val Loss: 1.9900\n",
            "Epoch: 3/20... Step: 370... Loss: 2.0189... Val Loss: 1.9748\n",
            "Epoch: 3/20... Step: 380... Loss: 1.9862... Val Loss: 1.9560\n",
            "Epoch: 3/20... Step: 390... Loss: 1.9591... Val Loss: 1.9426\n",
            "Epoch: 3/20... Step: 400... Loss: 1.9294... Val Loss: 1.9272\n",
            "Epoch: 3/20... Step: 410... Loss: 1.9389... Val Loss: 1.9118\n",
            "Epoch: 4/20... Step: 420... Loss: 1.9287... Val Loss: 1.8980\n",
            "Epoch: 4/20... Step: 430... Loss: 1.9189... Val Loss: 1.8835\n",
            "Epoch: 4/20... Step: 440... Loss: 1.9023... Val Loss: 1.8692\n",
            "Epoch: 4/20... Step: 450... Loss: 1.8473... Val Loss: 1.8552\n",
            "Epoch: 4/20... Step: 460... Loss: 1.8388... Val Loss: 1.8546\n",
            "Epoch: 4/20... Step: 470... Loss: 1.8665... Val Loss: 1.8400\n",
            "Epoch: 4/20... Step: 480... Loss: 1.8408... Val Loss: 1.8230\n",
            "Epoch: 4/20... Step: 490... Loss: 1.8506... Val Loss: 1.8110\n",
            "Epoch: 4/20... Step: 500... Loss: 1.8331... Val Loss: 1.7997\n",
            "Epoch: 4/20... Step: 510... Loss: 1.8196... Val Loss: 1.7885\n",
            "Epoch: 4/20... Step: 520... Loss: 1.8300... Val Loss: 1.7801\n",
            "Epoch: 4/20... Step: 530... Loss: 1.7969... Val Loss: 1.7723\n",
            "Epoch: 4/20... Step: 540... Loss: 1.7456... Val Loss: 1.7597\n",
            "Epoch: 4/20... Step: 550... Loss: 1.7953... Val Loss: 1.7474\n",
            "Epoch: 5/20... Step: 560... Loss: 1.7575... Val Loss: 1.7438\n",
            "Epoch: 5/20... Step: 570... Loss: 1.7529... Val Loss: 1.7299\n",
            "Epoch: 5/20... Step: 580... Loss: 1.7264... Val Loss: 1.7178\n",
            "Epoch: 5/20... Step: 590... Loss: 1.7309... Val Loss: 1.7081\n",
            "Epoch: 5/20... Step: 600... Loss: 1.7101... Val Loss: 1.7064\n",
            "Epoch: 5/20... Step: 610... Loss: 1.7025... Val Loss: 1.6976\n",
            "Epoch: 5/20... Step: 620... Loss: 1.7048... Val Loss: 1.6919\n",
            "Epoch: 5/20... Step: 630... Loss: 1.7147... Val Loss: 1.6808\n",
            "Epoch: 5/20... Step: 640... Loss: 1.6868... Val Loss: 1.6747\n",
            "Epoch: 5/20... Step: 650... Loss: 1.6751... Val Loss: 1.6678\n",
            "Epoch: 5/20... Step: 660... Loss: 1.6536... Val Loss: 1.6590\n",
            "Epoch: 5/20... Step: 670... Loss: 1.6836... Val Loss: 1.6531\n",
            "Epoch: 5/20... Step: 680... Loss: 1.6776... Val Loss: 1.6470\n",
            "Epoch: 5/20... Step: 690... Loss: 1.6497... Val Loss: 1.6387\n",
            "Epoch: 6/20... Step: 700... Loss: 1.6519... Val Loss: 1.6352\n",
            "Epoch: 6/20... Step: 710... Loss: 1.6381... Val Loss: 1.6269\n",
            "Epoch: 6/20... Step: 720... Loss: 1.6263... Val Loss: 1.6208\n",
            "Epoch: 6/20... Step: 730... Loss: 1.6423... Val Loss: 1.6165\n",
            "Epoch: 6/20... Step: 740... Loss: 1.6060... Val Loss: 1.6133\n",
            "Epoch: 6/20... Step: 750... Loss: 1.5868... Val Loss: 1.6083\n",
            "Epoch: 6/20... Step: 760... Loss: 1.6368... Val Loss: 1.6010\n",
            "Epoch: 6/20... Step: 770... Loss: 1.6108... Val Loss: 1.6001\n",
            "Epoch: 6/20... Step: 780... Loss: 1.5949... Val Loss: 1.5908\n",
            "Epoch: 6/20... Step: 790... Loss: 1.5794... Val Loss: 1.5873\n",
            "Epoch: 6/20... Step: 800... Loss: 1.5958... Val Loss: 1.5793\n",
            "Epoch: 6/20... Step: 810... Loss: 1.5773... Val Loss: 1.5781\n",
            "Epoch: 6/20... Step: 820... Loss: 1.5496... Val Loss: 1.5716\n",
            "Epoch: 6/20... Step: 830... Loss: 1.5883... Val Loss: 1.5653\n",
            "Epoch: 7/20... Step: 840... Loss: 1.5473... Val Loss: 1.5619\n",
            "Epoch: 7/20... Step: 850... Loss: 1.5640... Val Loss: 1.5554\n",
            "Epoch: 7/20... Step: 860... Loss: 1.5478... Val Loss: 1.5481\n",
            "Epoch: 7/20... Step: 870... Loss: 1.5539... Val Loss: 1.5455\n",
            "Epoch: 7/20... Step: 880... Loss: 1.5572... Val Loss: 1.5423\n",
            "Epoch: 7/20... Step: 890... Loss: 1.5521... Val Loss: 1.5374\n",
            "Epoch: 7/20... Step: 900... Loss: 1.5327... Val Loss: 1.5365\n",
            "Epoch: 7/20... Step: 910... Loss: 1.4964... Val Loss: 1.5328\n",
            "Epoch: 7/20... Step: 920... Loss: 1.5337... Val Loss: 1.5284\n",
            "Epoch: 7/20... Step: 930... Loss: 1.5246... Val Loss: 1.5238\n",
            "Epoch: 7/20... Step: 940... Loss: 1.5249... Val Loss: 1.5207\n",
            "Epoch: 7/20... Step: 950... Loss: 1.5259... Val Loss: 1.5152\n",
            "Epoch: 7/20... Step: 960... Loss: 1.5348... Val Loss: 1.5101\n",
            "Epoch: 7/20... Step: 970... Loss: 1.5404... Val Loss: 1.5103\n",
            "Epoch: 8/20... Step: 980... Loss: 1.5012... Val Loss: 1.5073\n",
            "Epoch: 8/20... Step: 990... Loss: 1.5083... Val Loss: 1.5036\n",
            "Epoch: 8/20... Step: 1000... Loss: 1.4947... Val Loss: 1.4997\n",
            "Epoch: 8/20... Step: 1010... Loss: 1.5384... Val Loss: 1.4991\n",
            "Epoch: 8/20... Step: 1020... Loss: 1.5126... Val Loss: 1.4959\n",
            "Epoch: 8/20... Step: 1030... Loss: 1.4833... Val Loss: 1.4876\n",
            "Epoch: 8/20... Step: 1040... Loss: 1.4939... Val Loss: 1.4900\n",
            "Epoch: 8/20... Step: 1050... Loss: 1.4764... Val Loss: 1.4828\n",
            "Epoch: 8/20... Step: 1060... Loss: 1.4782... Val Loss: 1.4818\n",
            "Epoch: 8/20... Step: 1070... Loss: 1.4794... Val Loss: 1.4785\n",
            "Epoch: 8/20... Step: 1080... Loss: 1.4798... Val Loss: 1.4741\n",
            "Epoch: 8/20... Step: 1090... Loss: 1.4601... Val Loss: 1.4688\n",
            "Epoch: 8/20... Step: 1100... Loss: 1.4577... Val Loss: 1.4665\n",
            "Epoch: 8/20... Step: 1110... Loss: 1.4676... Val Loss: 1.4679\n",
            "Epoch: 9/20... Step: 1120... Loss: 1.4839... Val Loss: 1.4640\n",
            "Epoch: 9/20... Step: 1130... Loss: 1.4781... Val Loss: 1.4604\n",
            "Epoch: 9/20... Step: 1140... Loss: 1.4715... Val Loss: 1.4567\n",
            "Epoch: 9/20... Step: 1150... Loss: 1.4792... Val Loss: 1.4581\n",
            "Epoch: 9/20... Step: 1160... Loss: 1.4368... Val Loss: 1.4502\n",
            "Epoch: 9/20... Step: 1170... Loss: 1.4494... Val Loss: 1.4523\n",
            "Epoch: 9/20... Step: 1180... Loss: 1.4457... Val Loss: 1.4493\n",
            "Epoch: 9/20... Step: 1190... Loss: 1.4746... Val Loss: 1.4463\n",
            "Epoch: 9/20... Step: 1200... Loss: 1.4247... Val Loss: 1.4408\n",
            "Epoch: 9/20... Step: 1210... Loss: 1.4394... Val Loss: 1.4395\n",
            "Epoch: 9/20... Step: 1220... Loss: 1.4274... Val Loss: 1.4405\n",
            "Epoch: 9/20... Step: 1230... Loss: 1.4033... Val Loss: 1.4367\n",
            "Epoch: 9/20... Step: 1240... Loss: 1.4232... Val Loss: 1.4312\n",
            "Epoch: 9/20... Step: 1250... Loss: 1.4245... Val Loss: 1.4308\n",
            "Epoch: 10/20... Step: 1260... Loss: 1.4355... Val Loss: 1.4329\n",
            "Epoch: 10/20... Step: 1270... Loss: 1.4311... Val Loss: 1.4290\n",
            "Epoch: 10/20... Step: 1280... Loss: 1.4445... Val Loss: 1.4224\n",
            "Epoch: 10/20... Step: 1290... Loss: 1.4266... Val Loss: 1.4259\n",
            "Epoch: 10/20... Step: 1300... Loss: 1.4141... Val Loss: 1.4209\n",
            "Epoch: 10/20... Step: 1310... Loss: 1.4211... Val Loss: 1.4186\n",
            "Epoch: 10/20... Step: 1320... Loss: 1.3903... Val Loss: 1.4194\n",
            "Epoch: 10/20... Step: 1330... Loss: 1.4002... Val Loss: 1.4167\n",
            "Epoch: 10/20... Step: 1340... Loss: 1.3878... Val Loss: 1.4119\n",
            "Epoch: 10/20... Step: 1350... Loss: 1.3759... Val Loss: 1.4096\n",
            "Epoch: 10/20... Step: 1360... Loss: 1.3846... Val Loss: 1.4153\n",
            "Epoch: 10/20... Step: 1370... Loss: 1.3747... Val Loss: 1.4112\n",
            "Epoch: 10/20... Step: 1380... Loss: 1.4085... Val Loss: 1.4044\n",
            "Epoch: 10/20... Step: 1390... Loss: 1.4198... Val Loss: 1.4077\n",
            "Epoch: 11/20... Step: 1400... Loss: 1.4121... Val Loss: 1.4042\n",
            "Epoch: 11/20... Step: 1410... Loss: 1.4376... Val Loss: 1.4006\n",
            "Epoch: 11/20... Step: 1420... Loss: 1.4166... Val Loss: 1.3953\n",
            "Epoch: 11/20... Step: 1430... Loss: 1.3869... Val Loss: 1.4014\n",
            "Epoch: 11/20... Step: 1440... Loss: 1.4110... Val Loss: 1.3986\n",
            "Epoch: 11/20... Step: 1450... Loss: 1.3371... Val Loss: 1.3981\n",
            "Epoch: 11/20... Step: 1460... Loss: 1.3749... Val Loss: 1.3958\n",
            "Epoch: 11/20... Step: 1470... Loss: 1.3642... Val Loss: 1.3941\n",
            "Epoch: 11/20... Step: 1480... Loss: 1.3746... Val Loss: 1.3916\n",
            "Epoch: 11/20... Step: 1490... Loss: 1.3715... Val Loss: 1.3902\n",
            "Epoch: 11/20... Step: 1500... Loss: 1.3573... Val Loss: 1.3922\n",
            "Epoch: 11/20... Step: 1510... Loss: 1.3470... Val Loss: 1.3871\n",
            "Epoch: 11/20... Step: 1520... Loss: 1.3750... Val Loss: 1.3847\n",
            "Epoch: 12/20... Step: 1530... Loss: 1.4319... Val Loss: 1.3872\n",
            "Epoch: 12/20... Step: 1540... Loss: 1.3922... Val Loss: 1.3839\n",
            "Epoch: 12/20... Step: 1550... Loss: 1.3938... Val Loss: 1.3805\n",
            "Epoch: 12/20... Step: 1560... Loss: 1.4070... Val Loss: 1.3776\n",
            "Epoch: 12/20... Step: 1570... Loss: 1.3410... Val Loss: 1.3800\n",
            "Epoch: 12/20... Step: 1580... Loss: 1.3276... Val Loss: 1.3762\n",
            "Epoch: 12/20... Step: 1590... Loss: 1.3296... Val Loss: 1.3758\n",
            "Epoch: 12/20... Step: 1600... Loss: 1.3498... Val Loss: 1.3769\n",
            "Epoch: 12/20... Step: 1610... Loss: 1.3405... Val Loss: 1.3775\n",
            "Epoch: 12/20... Step: 1620... Loss: 1.3369... Val Loss: 1.3721\n",
            "Epoch: 12/20... Step: 1630... Loss: 1.3670... Val Loss: 1.3711\n",
            "Epoch: 12/20... Step: 1640... Loss: 1.3457... Val Loss: 1.3729\n",
            "Epoch: 12/20... Step: 1650... Loss: 1.3147... Val Loss: 1.3694\n",
            "Epoch: 12/20... Step: 1660... Loss: 1.3766... Val Loss: 1.3685\n",
            "Epoch: 13/20... Step: 1670... Loss: 1.3358... Val Loss: 1.3717\n",
            "Epoch: 13/20... Step: 1680... Loss: 1.3566... Val Loss: 1.3669\n",
            "Epoch: 13/20... Step: 1690... Loss: 1.3386... Val Loss: 1.3661\n",
            "Epoch: 13/20... Step: 1700... Loss: 1.3298... Val Loss: 1.3605\n",
            "Epoch: 13/20... Step: 1710... Loss: 1.3059... Val Loss: 1.3645\n",
            "Epoch: 13/20... Step: 1720... Loss: 1.3200... Val Loss: 1.3634\n",
            "Epoch: 13/20... Step: 1730... Loss: 1.3660... Val Loss: 1.3617\n",
            "Epoch: 13/20... Step: 1740... Loss: 1.3228... Val Loss: 1.3588\n",
            "Epoch: 13/20... Step: 1750... Loss: 1.2879... Val Loss: 1.3631\n",
            "Epoch: 13/20... Step: 1760... Loss: 1.3196... Val Loss: 1.3570\n",
            "Epoch: 13/20... Step: 1770... Loss: 1.3381... Val Loss: 1.3588\n",
            "Epoch: 13/20... Step: 1780... Loss: 1.3182... Val Loss: 1.3576\n",
            "Epoch: 13/20... Step: 1790... Loss: 1.2947... Val Loss: 1.3576\n",
            "Epoch: 13/20... Step: 1800... Loss: 1.3280... Val Loss: 1.3519\n",
            "Epoch: 14/20... Step: 1810... Loss: 1.3321... Val Loss: 1.3551\n",
            "Epoch: 14/20... Step: 1820... Loss: 1.3164... Val Loss: 1.3527\n",
            "Epoch: 14/20... Step: 1830... Loss: 1.3291... Val Loss: 1.3482\n",
            "Epoch: 14/20... Step: 1840... Loss: 1.2889... Val Loss: 1.3484\n",
            "Epoch: 14/20... Step: 1850... Loss: 1.2664... Val Loss: 1.3514\n",
            "Epoch: 14/20... Step: 1860... Loss: 1.3225... Val Loss: 1.3484\n",
            "Epoch: 14/20... Step: 1870... Loss: 1.3359... Val Loss: 1.3423\n",
            "Epoch: 14/20... Step: 1880... Loss: 1.3213... Val Loss: 1.3451\n",
            "Epoch: 14/20... Step: 1890... Loss: 1.3387... Val Loss: 1.3498\n",
            "Epoch: 14/20... Step: 1900... Loss: 1.3124... Val Loss: 1.3451\n",
            "Epoch: 14/20... Step: 1910... Loss: 1.3145... Val Loss: 1.3467\n",
            "Epoch: 14/20... Step: 1920... Loss: 1.3081... Val Loss: 1.3449\n",
            "Epoch: 14/20... Step: 1930... Loss: 1.2776... Val Loss: 1.3424\n",
            "Epoch: 14/20... Step: 1940... Loss: 1.3317... Val Loss: 1.3423\n",
            "Epoch: 15/20... Step: 1950... Loss: 1.2986... Val Loss: 1.3435\n",
            "Epoch: 15/20... Step: 1960... Loss: 1.3088... Val Loss: 1.3377\n",
            "Epoch: 15/20... Step: 1970... Loss: 1.2905... Val Loss: 1.3371\n",
            "Epoch: 15/20... Step: 1980... Loss: 1.2899... Val Loss: 1.3348\n",
            "Epoch: 15/20... Step: 1990... Loss: 1.2810... Val Loss: 1.3361\n",
            "Epoch: 15/20... Step: 2000... Loss: 1.2679... Val Loss: 1.3372\n",
            "Epoch: 15/20... Step: 2010... Loss: 1.2940... Val Loss: 1.3335\n",
            "Epoch: 15/20... Step: 2020... Loss: 1.3139... Val Loss: 1.3316\n",
            "Epoch: 15/20... Step: 2030... Loss: 1.2816... Val Loss: 1.3388\n",
            "Epoch: 15/20... Step: 2040... Loss: 1.2971... Val Loss: 1.3350\n",
            "Epoch: 15/20... Step: 2050... Loss: 1.2798... Val Loss: 1.3360\n",
            "Epoch: 15/20... Step: 2060... Loss: 1.2934... Val Loss: 1.3327\n",
            "Epoch: 15/20... Step: 2070... Loss: 1.2972... Val Loss: 1.3294\n",
            "Epoch: 15/20... Step: 2080... Loss: 1.2868... Val Loss: 1.3307\n",
            "Epoch: 16/20... Step: 2090... Loss: 1.2983... Val Loss: 1.3304\n",
            "Epoch: 16/20... Step: 2100... Loss: 1.2796... Val Loss: 1.3287\n",
            "Epoch: 16/20... Step: 2110... Loss: 1.2715... Val Loss: 1.3272\n",
            "Epoch: 16/20... Step: 2120... Loss: 1.2902... Val Loss: 1.3265\n",
            "Epoch: 16/20... Step: 2130... Loss: 1.2597... Val Loss: 1.3278\n",
            "Epoch: 16/20... Step: 2140... Loss: 1.2713... Val Loss: 1.3254\n",
            "Epoch: 16/20... Step: 2150... Loss: 1.2988... Val Loss: 1.3255\n",
            "Epoch: 16/20... Step: 2160... Loss: 1.2698... Val Loss: 1.3278\n",
            "Epoch: 16/20... Step: 2170... Loss: 1.2721... Val Loss: 1.3256\n",
            "Epoch: 16/20... Step: 2180... Loss: 1.2669... Val Loss: 1.3237\n",
            "Epoch: 16/20... Step: 2190... Loss: 1.2866... Val Loss: 1.3255\n",
            "Epoch: 16/20... Step: 2200... Loss: 1.2733... Val Loss: 1.3207\n",
            "Epoch: 16/20... Step: 2210... Loss: 1.2392... Val Loss: 1.3190\n",
            "Epoch: 16/20... Step: 2220... Loss: 1.2817... Val Loss: 1.3183\n",
            "Epoch: 17/20... Step: 2230... Loss: 1.2599... Val Loss: 1.3200\n",
            "Epoch: 17/20... Step: 2240... Loss: 1.2733... Val Loss: 1.3207\n",
            "Epoch: 17/20... Step: 2250... Loss: 1.2478... Val Loss: 1.3180\n",
            "Epoch: 17/20... Step: 2260... Loss: 1.2590... Val Loss: 1.3165\n",
            "Epoch: 17/20... Step: 2270... Loss: 1.2764... Val Loss: 1.3166\n",
            "Epoch: 17/20... Step: 2280... Loss: 1.2799... Val Loss: 1.3166\n",
            "Epoch: 17/20... Step: 2290... Loss: 1.2717... Val Loss: 1.3164\n",
            "Epoch: 17/20... Step: 2300... Loss: 1.2373... Val Loss: 1.3163\n",
            "Epoch: 17/20... Step: 2310... Loss: 1.2552... Val Loss: 1.3149\n",
            "Epoch: 17/20... Step: 2320... Loss: 1.2517... Val Loss: 1.3117\n",
            "Epoch: 17/20... Step: 2330... Loss: 1.2585... Val Loss: 1.3161\n",
            "Epoch: 17/20... Step: 2340... Loss: 1.2649... Val Loss: 1.3107\n",
            "Epoch: 17/20... Step: 2350... Loss: 1.2690... Val Loss: 1.3115\n",
            "Epoch: 17/20... Step: 2360... Loss: 1.2689... Val Loss: 1.3161\n",
            "Epoch: 18/20... Step: 2370... Loss: 1.2379... Val Loss: 1.3112\n",
            "Epoch: 18/20... Step: 2380... Loss: 1.2505... Val Loss: 1.3106\n",
            "Epoch: 18/20... Step: 2390... Loss: 1.2504... Val Loss: 1.3081\n",
            "Epoch: 18/20... Step: 2400... Loss: 1.2799... Val Loss: 1.3095\n",
            "Epoch: 18/20... Step: 2410... Loss: 1.2727... Val Loss: 1.3124\n",
            "Epoch: 18/20... Step: 2420... Loss: 1.2499... Val Loss: 1.3064\n",
            "Epoch: 18/20... Step: 2430... Loss: 1.2595... Val Loss: 1.3098\n",
            "Epoch: 18/20... Step: 2440... Loss: 1.2405... Val Loss: 1.3085\n",
            "Epoch: 18/20... Step: 2450... Loss: 1.2431... Val Loss: 1.3070\n",
            "Epoch: 18/20... Step: 2460... Loss: 1.2546... Val Loss: 1.3085\n",
            "Epoch: 18/20... Step: 2470... Loss: 1.2457... Val Loss: 1.3108\n",
            "Epoch: 18/20... Step: 2480... Loss: 1.2415... Val Loss: 1.3049\n",
            "Epoch: 18/20... Step: 2490... Loss: 1.2345... Val Loss: 1.3066\n",
            "Epoch: 18/20... Step: 2500... Loss: 1.2311... Val Loss: 1.3049\n",
            "Epoch: 19/20... Step: 2510... Loss: 1.2455... Val Loss: 1.3009\n",
            "Epoch: 19/20... Step: 2520... Loss: 1.2602... Val Loss: 1.3058\n",
            "Epoch: 19/20... Step: 2530... Loss: 1.2601... Val Loss: 1.3045\n",
            "Epoch: 19/20... Step: 2540... Loss: 1.2808... Val Loss: 1.3025\n",
            "Epoch: 19/20... Step: 2550... Loss: 1.2275... Val Loss: 1.3047\n",
            "Epoch: 19/20... Step: 2560... Loss: 1.2416... Val Loss: 1.2994\n",
            "Epoch: 19/20... Step: 2570... Loss: 1.2314... Val Loss: 1.3028\n",
            "Epoch: 19/20... Step: 2580... Loss: 1.2668... Val Loss: 1.3071\n",
            "Epoch: 19/20... Step: 2590... Loss: 1.2315... Val Loss: 1.3038\n",
            "Epoch: 19/20... Step: 2600... Loss: 1.2310... Val Loss: 1.3002\n",
            "Epoch: 19/20... Step: 2610... Loss: 1.2353... Val Loss: 1.3009\n",
            "Epoch: 19/20... Step: 2620... Loss: 1.2174... Val Loss: 1.3003\n",
            "Epoch: 19/20... Step: 2630... Loss: 1.2336... Val Loss: 1.3019\n",
            "Epoch: 19/20... Step: 2640... Loss: 1.2354... Val Loss: 1.2983\n",
            "Epoch: 20/20... Step: 2650... Loss: 1.2443... Val Loss: 1.2973\n",
            "Epoch: 20/20... Step: 2660... Loss: 1.2465... Val Loss: 1.3015\n",
            "Epoch: 20/20... Step: 2670... Loss: 1.2506... Val Loss: 1.3021\n",
            "Epoch: 20/20... Step: 2680... Loss: 1.2468... Val Loss: 1.2973\n",
            "Epoch: 20/20... Step: 2690... Loss: 1.2351... Val Loss: 1.2973\n",
            "Epoch: 20/20... Step: 2700... Loss: 1.2385... Val Loss: 1.2971\n",
            "Epoch: 20/20... Step: 2710... Loss: 1.2089... Val Loss: 1.2985\n",
            "Epoch: 20/20... Step: 2720... Loss: 1.2119... Val Loss: 1.2957\n",
            "Epoch: 20/20... Step: 2730... Loss: 1.2018... Val Loss: 1.2924\n",
            "Epoch: 20/20... Step: 2740... Loss: 1.2147... Val Loss: 1.2955\n",
            "Epoch: 20/20... Step: 2750... Loss: 1.2106... Val Loss: 1.2936\n",
            "Epoch: 20/20... Step: 2760... Loss: 1.2066... Val Loss: 1.2902\n",
            "Epoch: 20/20... Step: 2770... Loss: 1.2383... Val Loss: 1.2956\n",
            "Epoch: 20/20... Step: 2780... Loss: 1.2659... Val Loss: 1.2940\n"
          ],
          "name": "stdout"
        }
      ]
    },
    {
      "metadata": {
        "id": "ftuReuNIepc3",
        "colab_type": "text"
      },
      "cell_type": "markdown",
      "source": [
        "## Getting the best model\n",
        "\n",
        "To set your hyperparameters to get the best performance, you'll want to watch the training and validation losses. If your training loss is much lower than the validation loss, you're overfitting. Increase regularization (more dropout) or use a smaller network. If the training and validation losses are close, you're underfitting so you can increase the size of the network."
      ]
    },
    {
      "metadata": {
        "id": "rUoi6YPDepc3",
        "colab_type": "text"
      },
      "cell_type": "markdown",
      "source": [
        "## Hyperparameters\n",
        "\n",
        "Here are the hyperparameters for the network.\n",
        "\n",
        "In defining the model:\n",
        "* `n_hidden` - The number of units in the hidden layers.\n",
        "* `n_layers` - Number of hidden LSTM layers to use.\n",
        "\n",
        "We assume that dropout probability and learning rate will be kept at the default, in this example.\n",
        "\n",
        "And in training:\n",
        "* `batch_size` - Number of sequences running through the network in one pass.\n",
        "* `seq_length` - Number of characters in the sequence the network is trained on. Larger is better typically, the network will learn more long range dependencies. But it takes longer to train. 100 is typically a good number here.\n",
        "* `lr` - Learning rate for training\n",
        "\n",
        "Here's some good advice from Andrej Karpathy on training the network. I'm going to copy it in here for your benefit, but also link to [where it originally came from](https://github.com/karpathy/char-rnn#tips-and-tricks).\n",
        "\n",
        "> ## Tips and Tricks\n",
        "\n",
        ">### Monitoring Validation Loss vs. Training Loss\n",
        ">If you're somewhat new to Machine Learning or Neural Networks it can take a bit of expertise to get good models. The most important quantity to keep track of is the difference between your training loss (printed during training) and the validation loss (printed once in a while when the RNN is run on the validation data (by default every 1000 iterations)). In particular:\n",
        "\n",
        "> - If your training loss is much lower than validation loss then this means the network might be **overfitting**. Solutions to this are to decrease your network size, or to increase dropout. For example you could try dropout of 0.5 and so on.\n",
        "> - If your training/validation loss are about equal then your model is **underfitting**. Increase the size of your model (either number of layers or the raw number of neurons per layer)\n",
        "\n",
        "> ### Approximate number of parameters\n",
        "\n",
        "> The two most important parameters that control the model are `n_hidden` and `n_layers`. I would advise that you always use `n_layers` of either 2/3. The `n_hidden` can be adjusted based on how much data you have. The two important quantities to keep track of here are:\n",
        "\n",
        "> - The number of parameters in your model. This is printed when you start training.\n",
        "> - The size of your dataset. 1MB file is approximately 1 million characters.\n",
        "\n",
        ">These two should be about the same order of magnitude. It's a little tricky to tell. Here are some examples:\n",
        "\n",
        "> - I have a 100MB dataset and I'm using the default parameter settings (which currently print 150K parameters). My data size is significantly larger (100 mil >> 0.15 mil), so I expect to heavily underfit. I am thinking I can comfortably afford to make `n_hidden` larger.\n",
        "> - I have a 10MB dataset and running a 10 million parameter model. I'm slightly nervous and I'm carefully monitoring my validation loss. If it's larger than my training loss then I may want to try to increase dropout a bit and see if that helps the validation loss.\n",
        "\n",
        "> ### Best models strategy\n",
        "\n",
        ">The winning strategy to obtaining very good models (if you have the compute time) is to always err on making the network larger (as large as you're willing to wait for it to compute) and then try different dropout values (between 0,1). Whatever model has the best validation performance (the loss, written in the checkpoint filename, low is good) is the one you should use in the end.\n",
        "\n",
        ">It is very common in deep learning to run many different models with many different hyperparameter settings, and in the end take whatever checkpoint gave the best validation performance.\n",
        "\n",
        ">By the way, the size of your training and validation splits are also parameters. Make sure you have a decent amount of data in your validation set or otherwise the validation performance will be noisy and not very informative."
      ]
    },
    {
      "metadata": {
        "id": "y1SLgasNepc5",
        "colab_type": "text"
      },
      "cell_type": "markdown",
      "source": [
        "## Checkpoint\n",
        "\n",
        "After training, we'll save the model so we can load it again later if we need too. Here I'm saving the parameters needed to create the same architecture, the hidden layer hyperparameters and the text characters."
      ]
    },
    {
      "metadata": {
        "id": "CtwdkeHsepc6",
        "colab_type": "code",
        "colab": {}
      },
      "cell_type": "code",
      "source": [
        "# change the name, for saving multiple files\n",
        "model_name = 'rnn_x_epoch.net'\n",
        "\n",
        "checkpoint = {'n_hidden': net.n_hidden,\n",
        "              'n_layers': net.n_layers,\n",
        "              'state_dict': net.state_dict(),\n",
        "              'tokens': net.chars}\n",
        "\n",
        "with open(model_name, 'wb') as f:\n",
        "    torch.save(checkpoint, f)"
      ],
      "execution_count": 0,
      "outputs": []
    },
    {
      "metadata": {
        "id": "HXs1MHEUepc9",
        "colab_type": "text"
      },
      "cell_type": "markdown",
      "source": [
        "---\n",
        "## Making Predictions\n",
        "\n",
        "Now that the model is trained, we'll want to sample from it and make predictions about next characters! To sample, we pass in a character and have the network predict the next character. Then we take that character, pass it back in, and get another predicted character. Just keep doing this and you'll generate a bunch of text!\n",
        "\n",
        "### A note on the `predict`  function\n",
        "\n",
        "The output of our RNN is from a fully-connected layer and it outputs a **distribution of next-character scores**.\n",
        "\n",
        "> To actually get the next character, we apply a softmax function, which gives us a *probability* distribution that we can then sample to predict the next character.\n",
        "\n",
        "### Top K sampling\n",
        "\n",
        "Our predictions come from a categorical probability distribution over all the possible characters. We can make the sample text and make it more reasonable to handle (with less variables) by only considering some $K$ most probable characters. This will prevent the network from giving us completely absurd characters while allowing it to introduce some noise and randomness into the sampled text. Read more about [topk, here](https://pytorch.org/docs/stable/torch.html#torch.topk).\n"
      ]
    },
    {
      "metadata": {
        "id": "uu_IHL9lepc_",
        "colab_type": "code",
        "colab": {}
      },
      "cell_type": "code",
      "source": [
        "def predict(net, char, h=None, top_k=None):\n",
        "        ''' Given a character, predict the next character.\n",
        "            Returns the predicted character and the hidden state.\n",
        "        '''\n",
        "        \n",
        "        # tensor inputs\n",
        "        x = np.array([[net.char2int[char]]])\n",
        "        x = one_hot_encode(x, len(net.chars))\n",
        "        inputs = torch.from_numpy(x)\n",
        "        \n",
        "        if(train_on_gpu):\n",
        "            inputs = inputs.cuda()\n",
        "        \n",
        "        # detach hidden state from history\n",
        "        h = tuple([each.data for each in h])\n",
        "        # get the output of the model\n",
        "        out, h = net(inputs, h)\n",
        "\n",
        "        # get the character probabilities\n",
        "        p = F.softmax(out, dim=1).data\n",
        "        if(train_on_gpu):\n",
        "            p = p.cpu() # move to cpu\n",
        "        \n",
        "        # get top characters\n",
        "        if top_k is None:\n",
        "            top_ch = np.arange(len(net.chars))\n",
        "        else:\n",
        "            p, top_ch = p.topk(top_k)\n",
        "            top_ch = top_ch.numpy().squeeze()\n",
        "        \n",
        "        # select the likely next character with some element of randomness\n",
        "        p = p.numpy().squeeze()\n",
        "        char = np.random.choice(top_ch, p=p/p.sum())\n",
        "        \n",
        "        # return the encoded value of the predicted char and the hidden state\n",
        "        return net.int2char[char], h"
      ],
      "execution_count": 0,
      "outputs": []
    },
    {
      "metadata": {
        "id": "rDUomHuLepdC",
        "colab_type": "text"
      },
      "cell_type": "markdown",
      "source": [
        "### Priming and generating text \n",
        "\n",
        "Typically you'll want to prime the network so you can build up a hidden state. Otherwise the network will start out generating characters at random. In general the first bunch of characters will be a little rough since it hasn't built up a long history of characters to predict from."
      ]
    },
    {
      "metadata": {
        "id": "FWOmUtoHepdD",
        "colab_type": "code",
        "colab": {}
      },
      "cell_type": "code",
      "source": [
        "def sample(net, size, prime='The', top_k=None):\n",
        "        \n",
        "    if(train_on_gpu):\n",
        "        net.cuda()\n",
        "    else:\n",
        "        net.cpu()\n",
        "    \n",
        "    net.eval() # eval mode\n",
        "    \n",
        "    # First off, run through the prime characters\n",
        "    chars = [ch for ch in prime]\n",
        "    h = net.init_hidden(1)\n",
        "    for ch in prime:\n",
        "        char, h = predict(net, ch, h, top_k=top_k)\n",
        "\n",
        "    chars.append(char)\n",
        "    \n",
        "    # Now pass in the previous character and get a new one\n",
        "    for ii in range(size):\n",
        "        char, h = predict(net, chars[-1], h, top_k=top_k)\n",
        "        chars.append(char)\n",
        "\n",
        "    return ''.join(chars)"
      ],
      "execution_count": 0,
      "outputs": []
    },
    {
      "metadata": {
        "id": "PvRDX7w3epdH",
        "colab_type": "code",
        "colab": {
          "base_uri": "https://localhost:8080/",
          "height": 377
        },
        "outputId": "9fee016b-4c4f-42d6-f16f-bde2e9b482af"
      },
      "cell_type": "code",
      "source": [
        "print(sample(net, 1000, prime='Anna', top_k=5))"
      ],
      "execution_count": 42,
      "outputs": [
        {
          "output_type": "stream",
          "text": [
            "Anna, the marshal, with the doint. To him in such as\n",
            "though they could\n",
            "so that he had seen the\n",
            "sight of such that stray the\n",
            "country was\n",
            "a strengtive there\n",
            "at the same as something that was an answer to a long while;\n",
            "he was silent, that he heard her son, this, where he was still that there had been an account of\n",
            "her finger, while he was tray from the position in his since, and\n",
            "trying to say it a long, and sevenal to the frignd, where\n",
            "his chest were a good old prosce the boxed words and the councess. He would say to him in her eyes and settled, and\n",
            "there was the\n",
            "face of sound of the sight of his\n",
            "sole porter, she clearly saying in a pensing of a terry white the condition of the same time his fatura cannots frestly, and as he stopped; \"I can't look at the prince.\"\n",
            "\n",
            "\"I am view. With her hand would have been so minute,\" said Levin, with a\n",
            "fright. After stood, the children stood\n",
            "beside, that it had been an one of a chance of woman strange in the\n",
            "presence\n",
            "of the drew off there at the fired that was\n"
          ],
          "name": "stdout"
        }
      ]
    },
    {
      "metadata": {
        "id": "lCd7hsegepdM",
        "colab_type": "text"
      },
      "cell_type": "markdown",
      "source": [
        "## Loading a checkpoint"
      ]
    },
    {
      "metadata": {
        "id": "h4IWNx7lepdP",
        "colab_type": "code",
        "colab": {}
      },
      "cell_type": "code",
      "source": [
        "# Here we have loaded in a model that trained over 20 epochs `rnn_20_epoch.net`\n",
        "with open('rnn_x_epoch.net', 'rb') as f:\n",
        "    checkpoint = torch.load(f)\n",
        "    \n",
        "loaded = CharRNN(checkpoint['tokens'], n_hidden=checkpoint['n_hidden'], n_layers=checkpoint['n_layers'])\n",
        "loaded.load_state_dict(checkpoint['state_dict'])"
      ],
      "execution_count": 0,
      "outputs": []
    },
    {
      "metadata": {
        "id": "GCjjgHoyepdS",
        "colab_type": "code",
        "colab": {
          "base_uri": "https://localhost:8080/",
          "height": 717
        },
        "outputId": "2eed0f62-6e9f-4067-fe27-c64945873ece"
      },
      "cell_type": "code",
      "source": [
        "# Sample using a loaded model\n",
        "print(sample(loaded, 2000, top_k=5, prime=\"And Levin said\"))"
      ],
      "execution_count": 44,
      "outputs": [
        {
          "output_type": "stream",
          "text": [
            "And Levin said to himself to her that he had been supposing that the conversation clarked, and when it were coltry of his companion to this, and\n",
            "with a\n",
            "sun at once his\n",
            "sheel. Anna said the sincere\n",
            "and holding them were all those for his way and set to this waiting, should hear that he had been done to him.\n",
            "\n",
            "\"When and you don't care to go to his mind. I have been in how a sidelies, at a sort of surt on a sudden, the monings of made. How would you shall be a chalical peasants?\" said Lizavetal Pitrov, with an appoormment, and her solicitom, with a smile of\n",
            "time the\n",
            "princess had\n",
            "naturally suffered, bushs that he saw that\n",
            "the princess, his head\n",
            "on his hands. He saw that they\n",
            "were so many fresh short confores in the day of his friend had been seeing him. Something\n",
            "came out of that hour that took the setance of his face that there's no\n",
            "done in the side of the conversation of his course of his face and satisfied his. Sergey Ivanovitch and Vronsky smiled to a change with her short, trying no door and strength talked, but with an\n",
            "experience of his\n",
            "heart was something simple to be\n",
            "almisted, taking the more son to anounce on the past of her house. He called the sofi table as house, and\n",
            "had to be a long while of the position there stopped with a peasant. She had not been and to step, but the softed house try an idea to\n",
            "the\n",
            "party, a propition of his condection\n",
            "and the post of her husband, what had\n",
            "been stopped at\n",
            "his shoulders, and\n",
            "the morning of the sister at the footman's face and talking of a little side, trying to consider whether he could not come to see it with the same.\n",
            "\n",
            "\"It's so that I cannot be alone,\" he\n",
            "said.\n",
            "\n",
            "The doctor saw that he had always been at the face of society times, as though she\n",
            "had been a minute\n",
            "tighten that she had been thinking of a late that was having a position in a stanging of a thing where she sent to her face, and\n",
            "solitude the docto anowher thriends in\n",
            "the way.\n",
            "\n",
            "\"And I am a countess, I'll\n",
            "tried. I am so that you\n",
            "know her is\n",
            "naturally tried to see you at the\n",
            "sinc\n"
          ],
          "name": "stdout"
        }
      ]
    },
    {
      "metadata": {
        "id": "SZolQpvuepdW",
        "colab_type": "code",
        "colab": {}
      },
      "cell_type": "code",
      "source": [
        ""
      ],
      "execution_count": 0,
      "outputs": []
    }
  ]
}